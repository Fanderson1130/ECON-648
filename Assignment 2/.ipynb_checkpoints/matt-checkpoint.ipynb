{
 "cells": [
  {
   "cell_type": "markdown",
   "metadata": {},
   "source": [
    "# Problem 4"
   ]
  },
  {
   "cell_type": "code",
   "execution_count": 62,
   "metadata": {
    "collapsed": false
   },
   "outputs": [
    {
     "name": "stdout",
     "output_type": "stream",
     "text": [
      "[1.00778e14]"
     ]
    },
    {
     "name": "stderr",
     "output_type": "stream",
     "text": [
      "WARNING: Method definition demandfct(Any, Any) in module Main at In[4]:9 overwritten at In[62]:9.\n"
     ]
    }
   ],
   "source": [
    "using Optim\n",
    "\n",
    "x, w = qnwnorm([10,10], mu=[0,0], var=[0.02 0.01; 0.01 0.01])\n",
    "\n",
    "# Find p=f(x) by root finding\n",
    "# Done by minimizing on (f(x) - b)^2\n",
    "\n",
    "function demandfct(x1, x2)\n",
    "    function f(p)\n",
    "        return (x1*(p[1]^(-0.8)) + x2*(p[1]^(-0.5)) - 2)^2\n",
    "    end\n",
    "    res = optimize(f, [0.0,0.0])\n",
    "    return Optim.minimizer(res)\n",
    "end\n",
    "\n",
    "fx = []\n",
    "\n",
    "#push answers of f(x) into a table\n",
    "for i=1:size(x)[1]\n",
    "    push!(fx, demandfct(x[i,1], x[i,2]))\n",
    "end\n",
    "\n",
    "# Make array of arrays into matrix\n",
    "fx = hcat(fx...)'\n",
    "\n",
    "fx = fx[:, 1]\n",
    "expect = w[1]'*fx\n",
    "\n",
    "print(expect)"
   ]
  },
  {
   "cell_type": "markdown",
   "metadata": {
    "collapsed": true
   },
   "source": [
    "# Problem 5\n",
    "\n",
    "**a)** Integral is $4\\sqrt{p}+c$, evaluated on $[0,4]$ is $8$ and evaluated on $[0,1]$ is $4$. So $\\Delta = 4$\n",
    "\n",
    "**b)** Trapezoid rule"
   ]
  },
  {
   "cell_type": "code",
   "execution_count": 5,
   "metadata": {
    "collapsed": false
   },
   "outputs": [
    {
     "data": {
      "text/plain": [
       "trapezoid_integration (generic function with 1 method)"
      ]
     },
     "execution_count": 5,
     "metadata": {},
     "output_type": "execute_result"
    }
   ],
   "source": [
    "function trapezoid_integration(f, a, b; n=5)\n",
    "    #\n",
    "    # Trapezoid Rule Integration\n",
    "    #\n",
    "    result = 0\n",
    "    for i=1:n\n",
    "        x = a + (i-1)*((b-a)/n)\n",
    "        if i == 1 || i == n\n",
    "            w = ((b-a)/n)/2\n",
    "        else\n",
    "            w = ((b-a)/n)\n",
    "        end\n",
    "        result += w * f(x)\n",
    "    end\n",
    "    return result\n",
    "end"
   ]
  },
  {
   "cell_type": "code",
   "execution_count": 6,
   "metadata": {
    "collapsed": false
   },
   "outputs": [
    {
     "data": {
      "text/html": [
       "3.4002559853350247"
      ],
      "text/plain": [
       "3.4002559853350247"
      ]
     },
     "execution_count": 6,
     "metadata": {},
     "output_type": "execute_result"
    }
   ],
   "source": [
    "func(x) = 2*x^(-0.5)\n",
    "\n",
    "trapezoid_integration(func, 1, 4, n=5)"
   ]
  },
  {
   "cell_type": "markdown",
   "metadata": {},
   "source": [
    "# **c)** Simpson Rule Integration"
   ]
  },
  {
   "cell_type": "code",
   "execution_count": 56,
   "metadata": {
    "collapsed": false
   },
   "outputs": [
    {
     "name": "stderr",
     "output_type": "stream",
     "text": [
      "WARNING: Method definition simpson_integration(Any, Any, Any)"
     ]
    },
    {
     "data": {
      "text/plain": [
       "simpson_integration (generic function with 1 method)"
      ]
     },
     "execution_count": 56,
     "metadata": {},
     "output_type": "execute_result"
    },
    {
     "name": "stderr",
     "output_type": "stream",
     "text": [
      " in module Main at In[10]:5 overwritten at In[56]:5.\n",
      "WARNING: Method definition #simpson_integration(Array{Any, 1}, Main.#simpson_integration, Any, Any, Any) in module Main overwritten.\n"
     ]
    }
   ],
   "source": [
    "function simpson_integration(f, a, b; n=5)\n",
    "    #\n",
    "    # Simpson Rule Integration\n",
    "    #\n",
    "    result = 0\n",
    "    for i=1:n\n",
    "        x = a + (i-1)*((b-a)/(n-1))\n",
    "        if i == 1 || i == n #If i is 1 or n\n",
    "            w = ((b-a)/(n-1))/3\n",
    "        elseif i % 2 ==0     #If i is odd\n",
    "            w = 4*((b-a)/(n-1))/3\n",
    "        else                 #If i is even\n",
    "            w = 2*((b-a)/(n-1))/3\n",
    "        end\n",
    "        result += w * f(x)\n",
    "    end\n",
    "    return result\n",
    "end"
   ]
  },
  {
   "cell_type": "code",
   "execution_count": 57,
   "metadata": {
    "collapsed": false
   },
   "outputs": [
    {
     "data": {
      "text/html": [
       "4.003713816521043"
      ],
      "text/plain": [
       "4.003713816521043"
      ]
     },
     "execution_count": 57,
     "metadata": {},
     "output_type": "execute_result"
    }
   ],
   "source": [
    "simpson_integration(func, 1, 4, n=5)"
   ]
  },
  {
   "cell_type": "markdown",
   "metadata": {},
   "source": [
    "# **d)** Gauss-Legendre"
   ]
  },
  {
   "cell_type": "code",
   "execution_count": 59,
   "metadata": {
    "collapsed": false
   },
   "outputs": [
    {
     "data": {
      "text/plain": [
       "1×1 Array{Float64,2}:\n",
       " 0.914611"
      ]
     },
     "execution_count": 59,
     "metadata": {},
     "output_type": "execute_result"
    }
   ],
   "source": [
    "x, w = qnwlege1(5, 1.0, 4.0)\n",
    "\n",
    "fx = []\n",
    "\n",
    "#push answers of f(x) into a table\n",
    "for i=1:length(x)\n",
    "    push!(fx, func(x[i]))\n",
    "end\n",
    "\n",
    "# Make array of arrays into matrix\n",
    "fx = hcat(fx...)'\n",
    "\n",
    "# Compute integral\n",
    "intf=w'*fx"
   ]
  },
  {
   "cell_type": "markdown",
   "metadata": {},
   "source": [
    "# **e)** Weyl sequence"
   ]
  },
  {
   "cell_type": "code",
   "execution_count": 57,
   "metadata": {
    "collapsed": false
   },
   "outputs": [
    {
     "data": {
      "text/plain": [
       "1×1 Array{Float64,2}:\n",
       " 0.326077"
      ]
     },
     "execution_count": 57,
     "metadata": {},
     "output_type": "execute_result"
    }
   ],
   "source": [
    "x, w = qnwequi(5, 1.0, 4.0)\n",
    "\n",
    "fx = []\n",
    "\n",
    "#push answers of f(x) into a table\n",
    "for i=1:length(x)\n",
    "    push!(fx, func(x[i]))\n",
    "end\n",
    "\n",
    "# Make array of arrays into matrix\n",
    "fx = hcat(fx...)'\n",
    "\n",
    "integral = w'*fx"
   ]
  },
  {
   "cell_type": "markdown",
   "metadata": {},
   "source": [
    "# Problem 6 "
   ]
  },
  {
   "cell_type": "code",
   "execution_count": 39,
   "metadata": {
    "collapsed": false
   },
   "outputs": [
    {
     "name": "stderr",
     "output_type": "stream",
     "text": [
      "WARNING: Method definition MCGumbel(Any) in module Main at In[24]:5 overwritten at In[39]:5"
     ]
    },
    {
     "data": {
      "text/html": [
       "0.8910222683063848"
      ],
      "text/plain": [
       "0.8910222683063848"
      ]
     },
     "execution_count": 39,
     "metadata": {},
     "output_type": "execute_result"
    },
    {
     "name": "stderr",
     "output_type": "stream",
     "text": [
      ".\n"
     ]
    }
   ],
   "source": [
    "using Distributions\n",
    "\n",
    "\n",
    "function MCGumbel(n)\n",
    "    gbl = Gumbel()\n",
    "    sumtotal = 0\n",
    "    for i=1:n\n",
    "        draw = rand(gbl)\n",
    "        sumtotal += sqrt(abs(draw))\n",
    "    end\n",
    "    return sumtotal/n\n",
    "end\n",
    "\n",
    "MCGumbel(1000)"
   ]
  },
  {
   "cell_type": "code",
   "execution_count": 34,
   "metadata": {
    "collapsed": false
   },
   "outputs": [
    {
     "name": "stderr",
     "output_type": "stream",
     "text": [
      "WARNING: Method definition qnwequi_neideretter(Any, Any, Any)"
     ]
    },
    {
     "data": {
      "text/plain": [
       "qnwequi_neideretter (generic function with 1 method)"
      ]
     },
     "execution_count": 34,
     "metadata": {},
     "output_type": "execute_result"
    },
    {
     "name": "stderr",
     "output_type": "stream",
     "text": [
      " in module Main at In[19]:2 overwritten at In[34]:2.\n"
     ]
    }
   ],
   "source": [
    "function qnwequi_neideretter(n,a,b)\n",
    "    equidist_pp=sqrt(primes(7920)); \n",
    "\n",
    "    d  = max(length(n),max(length(a),length(b)))\n",
    "    n=prod(n)\n",
    "\n",
    "    i=collect(1:n)\n",
    "    i = convert(Array{Float64,1}, i)\n",
    "    j=2.^(collect(1:d)/(d+1))\n",
    "    x=i.*j\n",
    "    x=x-fix(x)\n",
    "\n",
    "    u=ones(n,1)\n",
    "    r = b-a\n",
    "    x = a + x.*r\n",
    "    w = (prod(r)/n)*u\n",
    "                        \n",
    "    return [x,w]\n",
    "end\n"
   ]
  },
  {
   "cell_type": "code",
   "execution_count": 53,
   "metadata": {
    "collapsed": false,
    "scrolled": false
   },
   "outputs": [
    {
     "name": "stderr",
     "output_type": "stream",
     "text": [
      "WARNING: Method definition func(Any) in module Main at In[52]:5 overwritten"
     ]
    },
    {
     "data": {
      "text/plain": [
       "1×1 Array{Float64,2}:\n",
       " 0.983461"
      ]
     },
     "execution_count": 53,
     "metadata": {},
     "output_type": "execute_result"
    },
    {
     "name": "stderr",
     "output_type": "stream",
     "text": [
      " at In[53]:5.\n"
     ]
    }
   ],
   "source": [
    "x, w = qnwequi_neideretter(1000, -99, 99) # Integrate over domain\n",
    "\n",
    "fx = []\n",
    "\n",
    "func(x) = exp(-x)*exp(-exp(-x))\n",
    "\n",
    "#push answers of f(x) into a table\n",
    "for i=1:length(x)\n",
    "    push!(fx, func(x[i]))\n",
    "end\n",
    "\n",
    "# Make array of arrays into matrix\n",
    "fx = hcat(fx...)'\n",
    "\n",
    "integral = w'*fx"
   ]
  }
 ],
 "metadata": {
  "kernelspec": {
   "display_name": "Julia 0.5.0",
   "language": "julia",
   "name": "julia-0.5"
  },
  "language_info": {
   "file_extension": ".jl",
   "mimetype": "application/julia",
   "name": "julia",
   "version": "0.5.0"
  }
 },
 "nbformat": 4,
 "nbformat_minor": 2
}
