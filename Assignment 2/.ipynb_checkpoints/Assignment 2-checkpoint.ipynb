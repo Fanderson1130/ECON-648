{
 "cells": [
  {
   "cell_type": "markdown",
   "metadata": {},
   "source": [
    "# Assignment 1\n",
    "    \n",
    "   **Name**: Julien Neves\n",
    "\n",
    "**Name**: Matthieu Ranger\n",
    "\n",
    "**Date**: February 22, 2017\n",
    "\n",
    "# Problem 1"
   ]
  },
  {
   "cell_type": "code",
   "execution_count": 1,
   "metadata": {
    "collapsed": false
   },
   "outputs": [
    {
     "data": {
      "text/plain": [
       "squared_res (generic function with 1 method)"
      ]
     },
     "execution_count": 1,
     "metadata": {},
     "output_type": "execute_result"
    }
   ],
   "source": [
    "R = [4.44 4.49 4.51 4.63 4.63 4.62 4.82 4.77 5.23;\n",
    "     4.45 4.48 4.49 4.61 4.61 4.60 4.84 4.74 5.16;\n",
    "     4.37 4.49 4.53 4.66 4.66 4.65 4.86 4.76 5.18;\n",
    "     4.47 4.47 4.51 4.57 4.57 4.57 4.74 4.68 5.14;\n",
    "     4.48 4.55 4.59 4.72 4.73 4.74 4.91 4.91 5.25]\n",
    "\n",
    "tau = [.25 .5 1 2 3 5 7 10 30]\n",
    "\n",
    "# Functions for computing price of bond\n",
    "\n",
    "A(tau, kappa, alpha, sigma) = (2*sqrt(kappa^2+2*sigma^2)*exp((sqrt(kappa^2+2*sigma^2)+kappa)*tau/2) /\n",
    "((sqrt(kappa^2+2*sigma^2)+kappa)*(exp(sqrt(kappa^2+2*sigma^2)*tau)-1)+ 2*sqrt(kappa^2+2*sigma^2)))^(2*kappa*alpha/sigma^2)\n",
    "\n",
    "B(tau, kappa, alpha, sigma) = (2*(exp(sqrt(kappa^2+2*sigma^2)*tau)-1) /\n",
    "((sqrt(kappa^2+2*sigma^2)+kappa)*(exp(sqrt(kappa^2+2*sigma^2)*tau)-1)+ 2*sqrt(kappa^2+2*sigma^2)))\n",
    "\n",
    "Z(tau, r,  kappa, alpha, sigma) = A(tau, kappa, alpha, sigma) * exp(-B(tau, kappa, alpha, sigma)*r)\n",
    "\n",
    "price(tau, r,  kappa, alpha, sigma) = -100*log(Z(tau, r, kappa, alpha, sigma))/tau\n",
    "\n",
    "\n",
    "function squared_res(R, tau, r, kappa, alpha, sigma)\n",
    "    # Get squared residuals\n",
    "    \n",
    "    maxDate, maxTau = size(R)\n",
    "    \n",
    "    res = copy(R)\n",
    "    \n",
    "    for i = 1:maxDate\n",
    "        for j = 1:maxTau\n",
    "            res[i,j] = (R[i,j] - price(tau[j], r[i], kappa, alpha, sigma))^2\n",
    "        end\n",
    "    end\n",
    "\n",
    "    return sum(res)\n",
    "end\n"
   ]
  },
  {
   "cell_type": "markdown",
   "metadata": {},
   "source": [
    "## **a)**"
   ]
  },
  {
   "cell_type": "code",
   "execution_count": 2,
   "metadata": {
    "collapsed": false
   },
   "outputs": [
    {
     "name": "stdout",
     "output_type": "stream",
     "text": [
      "r = [0.0221128,0.0220754,0.0220678,0.0228224,0.0224551]\n",
      "kappa = [-0.0809147,-0.0821362,-0.0783808,-0.083852,-0.079841]\n",
      "alpha = [-5.78935,-6.10459,-5.23679,-6.59471,-5.44983]\n",
      "sigma = [13.9,14.9569,12.137,16.6552,12.663]\n",
      "kappa*alpha = [0.468444,0.501408,0.410464,0.552979,0.43512]\n"
     ]
    }
   ],
   "source": [
    "using Optim\n",
    "\n",
    "res_a = Array(Float64,5,4)\n",
    "\n",
    "for i = 1:5\n",
    "    f_a(x) = squared_res(R[i,:]', tau, x[1], x[2], x[3], x[4]) \n",
    "    res_a[i, :] = Optim.minimizer(optimize(f_a, ones(4), BFGS()))\n",
    "end\n",
    "\n",
    "r = res_a[:,1]\n",
    "kappa = res_a[:,2]\n",
    "alpha = res_a[:,3]\n",
    "sigma = res_a[:,4]\n",
    "\n",
    "println(\"r = \", r)\n",
    "println(\"kappa = \", kappa)\n",
    "println(\"alpha = \", alpha)\n",
    "println(\"sigma = \", sigma)\n",
    "\n",
    "println(\"kappa*alpha = \", kappa.*alpha)"
   ]
  },
  {
   "cell_type": "markdown",
   "metadata": {},
   "source": [
    "## **b)**"
   ]
  },
  {
   "cell_type": "code",
   "execution_count": 3,
   "metadata": {
    "collapsed": false
   },
   "outputs": [
    {
     "name": "stdout",
     "output_type": "stream",
     "text": [
      "r = [0.0213034,0.0211902,0.0202723,0.0212856,0.0235574]\n",
      "kappa = -0.9589941905157485\n",
      "alpha = -0.48431264612318325\n",
      "sigma = 14.377805989082814\n",
      "kappa * alpha = 0.4644530140254423\n"
     ]
    }
   ],
   "source": [
    "using Optim\n",
    "\n",
    "f_b(x) = squared_res(R, tau, [x[1], x[2], x[3], x[4], x[5]], x[6], x[7], x[8]) \n",
    "res_b = Optim.minimizer(optimize(f_b, ones(8), BFGS()))\n",
    "\n",
    "r = res_b[1:5]\n",
    "kappa = res_b[6]\n",
    "alpha = res_b[7] \n",
    "sigma = res_b[8]\n",
    "\n",
    "println(\"r = \", r)\n",
    "println(\"kappa = \", kappa)\n",
    "println(\"alpha = \", alpha)\n",
    "println(\"sigma = \", sigma)\n",
    "\n",
    "println(\"kappa * alpha = \", kappa.*alpha)"
   ]
  },
  {
   "cell_type": "markdown",
   "metadata": {},
   "source": [
    "Note that the $\\alpha$ and $\\kappa$ are quite different when we calibrate over the whole sample compared to every date, but the $\\kappa*\\alpha$ seems to be constant between both form of calibration. Moreover, $r$ and $\\sigma$ seems to be consistent between the two calibrations"
   ]
  },
  {
   "cell_type": "markdown",
   "metadata": {},
   "source": [
    "# Problem 2"
   ]
  },
  {
   "cell_type": "markdown",
   "metadata": {},
   "source": [
    "Start with the taylor expansion of $f(x + h)$ and $f(x + 2h)$\n",
    "\\begin{align*}\n",
    "\tf(x + h) & = f(x) + hf'(x) + \\frac{h^2}{2} f''(x) + O(h^3)\\\\\n",
    "\tf(x + 2h) & = f(x) + 2hf'(x) + \\frac{(2h)^2}{2} f''(x) + O(h^3)\\\\\n",
    "\\end{align*}\n",
    "\n",
    "Combining them yields the following forward approximation:\n",
    "\\begin{align*}\n",
    "- f(x + 2h) + 4f(x + h) & = - f(x) - 2hf'(x) - \\frac{(2h)^2}{2} f''(x) + 4f(x) + 4hf'(x) + 4\\frac{h^2}{2} f''(x) + O(h^3) \n",
    "\t\\\\\n",
    "\tf'(x) & = \\frac{- f(x + 2h) + 4f(x + h) -3 f(x)}{2h} + O(h^2)\n",
    "\\end{align*}"
   ]
  },
  {
   "cell_type": "markdown",
   "metadata": {},
   "source": [
    "# Problem 3"
   ]
  },
  {
   "cell_type": "code",
   "execution_count": 22,
   "metadata": {
    "collapsed": false
   },
   "outputs": [
    {
     "name": "stderr",
     "output_type": "stream",
     "text": [
      "WARNING: Method definition f(Any, Any) in module Main at In[21]:6"
     ]
    },
    {
     "ename": "LoadError",
     "evalue": "MethodError: no method matching *(::Array{Float64,1}, ::Array{Float64,1})\u001b[0m\nClosest candidates are:\n  *(::Any, ::Any, \u001b[1m\u001b[31m::Any\u001b[0m, \u001b[1m\u001b[31m::Any...\u001b[0m) at operators.jl:138\n  *(\u001b[1m\u001b[31m::LightGraphs.LinAlg.Noop\u001b[0m, ::Any) at C:\\Users\\Server\\.julia\\v0.5\\LightGraphs\\src\\linalg\\./graphmatrices.jl:280\n  *{T<:Real}(\u001b[1m\u001b[31m::LightGraphs.Graph\u001b[0m, ::Array{T<:Real,1}) at C:\\Users\\Server\\.julia\\v0.5\\LightGraphs\\src\\operators.jl:193\n  ...\u001b[0m",
     "output_type": "error",
     "traceback": [
      "MethodError: no method matching *(::Array{Float64,1}, ::Array{Float64,1})\u001b[0m\nClosest candidates are:\n  *(::Any, ::Any, \u001b[1m\u001b[31m::Any\u001b[0m, \u001b[1m\u001b[31m::Any...\u001b[0m) at operators.jl:138\n  *(\u001b[1m\u001b[31m::LightGraphs.LinAlg.Noop\u001b[0m, ::Any) at C:\\Users\\Server\\.julia\\v0.5\\LightGraphs\\src\\linalg\\./graphmatrices.jl:280\n  *{T<:Real}(\u001b[1m\u001b[31m::LightGraphs.Graph\u001b[0m, ::Array{T<:Real,1}) at C:\\Users\\Server\\.julia\\v0.5\\LightGraphs\\src\\operators.jl:193\n  ...\u001b[0m",
      "",
      " in init_state(::Roots.Bisection, ::Roots.DerivativeFree, ::Array{Float64,1}, ::Nullable{Array{Float64,1}}) at C:\\Users\\Server\\.julia\\v0.5\\Roots\\src\\bracketing.jl:100",
      " in find_zero at C:\\Users\\Server\\.julia\\v0.5\\Roots\\src\\find_zero.jl:254 [inlined]",
      " in #find_zero#12(::Int64, ::Bool, ::Array{Any,1}, ::Function, ::Function, ::Array{Float64,1}, ::Roots.Bisection) at C:\\Users\\Server\\.julia\\v0.5\\Roots\\src\\bracketing.jl:69",
      " in #fzero#67(::Array{Any,1}, ::Function, ::Function, ::Int64, ::Int64) at C:\\Users\\Server\\.julia\\v0.5\\Roots\\src\\Roots.jl:110",
      " in fzero(::Function, ::Int64, ::Int64) at C:\\Users\\Server\\.julia\\v0.5\\Roots\\src\\Roots.jl:105"
     ]
    },
    {
     "name": "stderr",
     "output_type": "stream",
     "text": [
      " overwritten at In[22]:6.\n",
      "WARNING: Method definition g(Any) in module Main at In[21]:8 overwritten at In[22]:8.\n"
     ]
    }
   ],
   "source": [
    "using Roots\n",
    "using QuantEcon\n",
    "\n",
    "x, w = qnwlege(20, 0, 1)\n",
    "\n",
    "f(x,y) = y*exp(y*x-x.^2/2)\n",
    "\n",
    "g(y) = w' * f(x, y[1]) - 1\n",
    "\n",
    "result = fzero(g, 0, 2)"
   ]
  },
  {
   "cell_type": "markdown",
   "metadata": {},
   "source": [
    "# Problem 4"
   ]
  },
  {
   "cell_type": "code",
   "execution_count": 16,
   "metadata": {
    "collapsed": false
   },
   "outputs": [
    {
     "name": "stdout",
     "output_type": "stream",
     "text": [
      "Mean = [1.01648]\n",
      "Variance = [0.0310337]\n"
     ]
    },
    {
     "name": "stderr",
     "output_type": "stream",
     "text": [
      "WARNING: Method definition demand(Any) in module Main at In[15]:9 overwritten at In[16]:9.\n"
     ]
    }
   ],
   "source": [
    "using Roots\n",
    "using QuantEcon\n",
    "\n",
    "theta, w = qnwnorm([10,10], [0,0], [0.02 0.01; 0.01 0.01])\n",
    "\n",
    "theta = exp(theta)\n",
    "\n",
    "function demand(theta)\n",
    "    f(p) = theta[1]*p[1]^-0.8 + theta[2]*p[1]^-0.5 - 2\n",
    "    result = fzero(f,0,50)\n",
    "end\n",
    "\n",
    "result = []\n",
    "for i = 1:100\n",
    "    push!(result,demand(theta[i,:]))\n",
    "end\n",
    "\n",
    "ex = w'*result\n",
    "evar = w'*result.^2 - ex.^2\n",
    "\n",
    "println(\"Mean = \", ex)\n",
    "println(\"Variance = \", evar)"
   ]
  },
  {
   "cell_type": "markdown",
   "metadata": {},
   "source": [
    "# Problem 5\n",
    "\n",
    "## **a)**\n",
    "Integral is $4\\sqrt{p}+c$, evaluated on $[0,4]$ is $8$ and evaluated on $[0,1]$ is $4$. So $\\Delta = 4$\n",
    "\n",
    "## **b)** Trapezoid rule"
   ]
  },
  {
   "cell_type": "code",
   "execution_count": 6,
   "metadata": {
    "collapsed": false
   },
   "outputs": [
    {
     "data": {
      "text/plain": [
       "trapezoid_integration (generic function with 1 method)"
      ]
     },
     "execution_count": 6,
     "metadata": {},
     "output_type": "execute_result"
    }
   ],
   "source": [
    "function trapezoid_integration(f, a, b; n=5)\n",
    "    #\n",
    "    # Trapezoid Rule Integration\n",
    "    #\n",
    "    result = 0\n",
    "    for i=1:n\n",
    "        x = a + (i-1)*((b-a)/n)\n",
    "        if i == 1 || i == n\n",
    "            w = ((b-a)/n)/2\n",
    "        else\n",
    "            w = ((b-a)/n)\n",
    "        end\n",
    "        result += w * f(x)\n",
    "    end\n",
    "    return result\n",
    "end"
   ]
  },
  {
   "cell_type": "code",
   "execution_count": 7,
   "metadata": {
    "collapsed": false
   },
   "outputs": [
    {
     "data": {
      "text/html": [
       "3.4002559853350247"
      ],
      "text/plain": [
       "3.4002559853350247"
      ]
     },
     "execution_count": 7,
     "metadata": {},
     "output_type": "execute_result"
    }
   ],
   "source": [
    "func(x) = 2*x^(-0.5)\n",
    "\n",
    "trapezoid_integration(func, 1, 4, n=5)"
   ]
  },
  {
   "cell_type": "markdown",
   "metadata": {},
   "source": [
    "## **c)** Simpson Rule Integration"
   ]
  },
  {
   "cell_type": "code",
   "execution_count": 8,
   "metadata": {
    "collapsed": false
   },
   "outputs": [
    {
     "data": {
      "text/plain": [
       "simpson_integration (generic function with 1 method)"
      ]
     },
     "execution_count": 8,
     "metadata": {},
     "output_type": "execute_result"
    }
   ],
   "source": [
    "function simpson_integration(f, a, b; n=5)\n",
    "    #\n",
    "    # Simpson Rule Integration\n",
    "    #\n",
    "    result = 0\n",
    "    for i=1:n\n",
    "        x = a + (i-1)*((b-a)/(n-1))\n",
    "        if i == 1 || i == n #If i is 1 or n\n",
    "            w = ((b-a)/(n-1))/3\n",
    "        elseif i % 2 ==0     #If i is odd\n",
    "            w = 4*((b-a)/(n-1))/3\n",
    "        else                 #If i is even\n",
    "            w = 2*((b-a)/(n-1))/3\n",
    "        end\n",
    "        result += w * f(x)\n",
    "    end\n",
    "    return result\n",
    "end"
   ]
  },
  {
   "cell_type": "code",
   "execution_count": 9,
   "metadata": {
    "collapsed": false
   },
   "outputs": [
    {
     "data": {
      "text/html": [
       "4.003713816521043"
      ],
      "text/plain": [
       "4.003713816521043"
      ]
     },
     "execution_count": 9,
     "metadata": {},
     "output_type": "execute_result"
    }
   ],
   "source": [
    "simpson_integration(func, 1, 4, n=5)"
   ]
  },
  {
   "cell_type": "markdown",
   "metadata": {},
   "source": [
    "## **d)** Gauss-Legendre"
   ]
  },
  {
   "cell_type": "code",
   "execution_count": 10,
   "metadata": {
    "collapsed": false
   },
   "outputs": [
    {
     "data": {
      "text/plain": [
       "1×1 Array{Float64,2}:\n",
       " 3.99998"
      ]
     },
     "execution_count": 10,
     "metadata": {},
     "output_type": "execute_result"
    }
   ],
   "source": [
    "using QuantEcon\n",
    "\n",
    "x, w = qnwlege(5, 1.0, 4.0)\n",
    "\n",
    "fx = []\n",
    "\n",
    "#push answers of f(x) into a table\n",
    "for i=1:length(x)\n",
    "    push!(fx, func(x[i]))\n",
    "end\n",
    "\n",
    "# Make array of arrays into matrix\n",
    "fx = hcat(fx...)'\n",
    "\n",
    "# Compute integral\n",
    "intf=w'*fx"
   ]
  },
  {
   "cell_type": "markdown",
   "metadata": {},
   "source": [
    "## **e)** Weyl sequence"
   ]
  },
  {
   "cell_type": "code",
   "execution_count": 11,
   "metadata": {
    "collapsed": false
   },
   "outputs": [
    {
     "data": {
      "text/plain": [
       "1×1 Array{Float64,2}:\n",
       " 4.1427"
      ]
     },
     "execution_count": 11,
     "metadata": {},
     "output_type": "execute_result"
    }
   ],
   "source": [
    "using QuantEcon\n",
    "\n",
    "x, w = qnwequi(5, 1.0, 4.0)\n",
    "\n",
    "fx = []\n",
    "\n",
    "#push answers of f(x) into a table\n",
    "for i=1:length(x)\n",
    "    push!(fx, func(x[i]))\n",
    "end\n",
    "\n",
    "# Make array of arrays into matrix\n",
    "fx = hcat(fx...)'\n",
    "\n",
    "integral = w'*fx"
   ]
  },
  {
   "cell_type": "markdown",
   "metadata": {},
   "source": [
    "# Problem 6 "
   ]
  },
  {
   "cell_type": "code",
   "execution_count": 12,
   "metadata": {
    "collapsed": false
   },
   "outputs": [
    {
     "data": {
      "text/html": [
       "0.8794442296028764"
      ],
      "text/plain": [
       "0.8794442296028764"
      ]
     },
     "execution_count": 12,
     "metadata": {},
     "output_type": "execute_result"
    }
   ],
   "source": [
    "using Distributions\n",
    "\n",
    "\n",
    "function MCGumbel(n)\n",
    "    gbl = Gumbel()\n",
    "    sumtotal = 0\n",
    "    for i=1:n\n",
    "        draw = rand(gbl)\n",
    "        sumtotal += sqrt(abs(draw))\n",
    "    end\n",
    "    return sumtotal/n\n",
    "end\n",
    "\n",
    "MCGumbel(1000)"
   ]
  },
  {
   "cell_type": "code",
   "execution_count": 13,
   "metadata": {
    "collapsed": false
   },
   "outputs": [
    {
     "data": {
      "text/plain": [
       "qnwequi_neideretter (generic function with 1 method)"
      ]
     },
     "execution_count": 13,
     "metadata": {},
     "output_type": "execute_result"
    }
   ],
   "source": [
    "function qnwequi_neideretter(n,a,b)\n",
    "    equidist_pp=sqrt(primes(7920)); \n",
    "\n",
    "    d  = max(length(n),max(length(a),length(b)))\n",
    "    n=prod(n)\n",
    "\n",
    "    i=collect(1:n)\n",
    "    i = convert(Array{Float64,1}, i)\n",
    "    j=2.^(collect(1:d)/(d+1))\n",
    "    x=i.*j\n",
    "    x=x-fix(x)\n",
    "\n",
    "    u=ones(n,1)\n",
    "    r = b-a\n",
    "    x = a + x.*r\n",
    "    w = (prod(r)/n)*u\n",
    "                        \n",
    "    return [x,w]\n",
    "end\n"
   ]
  },
  {
   "cell_type": "code",
   "execution_count": 14,
   "metadata": {
    "collapsed": false
   },
   "outputs": [
    {
     "name": "stderr",
     "output_type": "stream",
     "text": [
      "WARNING: Method definition func(Any) in module Main at In[7]:1 overwritten at In[14]:7.\n"
     ]
    },
    {
     "data": {
      "text/plain": [
       "1×1 Array{Float64,2}:\n",
       " 0.983461"
      ]
     },
     "execution_count": 14,
     "metadata": {},
     "output_type": "execute_result"
    }
   ],
   "source": [
    "using QuantEcon: fix\n",
    "\n",
    "x, w = qnwequi_neideretter(1000, -99, 99) # Integrate over domain\n",
    "\n",
    "fx = []\n",
    "\n",
    "func(x) = exp(-x)*exp(-exp(-x))\n",
    "\n",
    "#push answers of f(x) into a table\n",
    "for i=1:length(x)\n",
    "    push!(fx, func(x[i]))\n",
    "end\n",
    "\n",
    "# Make array of arrays into matrix\n",
    "fx = hcat(fx...)'\n",
    "\n",
    "integral = w'*fx"
   ]
  }
 ],
 "metadata": {
  "anaconda-cloud": {},
  "kernelspec": {
   "display_name": "Julia 0.5.0",
   "language": "julia",
   "name": "julia-0.5"
  },
  "language_info": {
   "file_extension": ".jl",
   "mimetype": "application/julia",
   "name": "julia",
   "version": "0.5.0"
  }
 },
 "nbformat": 4,
 "nbformat_minor": 1
}
