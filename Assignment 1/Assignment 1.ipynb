{
 "cells": [
  {
   "cell_type": "markdown",
   "metadata": {},
   "source": [
    "Problem 1"
   ]
  },
  {
   "cell_type": "code",
   "execution_count": 3,
   "metadata": {
    "collapsed": false
   },
   "outputs": [
    {
     "name": "stderr",
     "output_type": "stream",
     "text": [
      " at In[2]:3.\n",
      "WARNING: Method definition g(Any) in module Main at In[1]:4 overwritten at In[2]:4.\n",
      "WARNING: Method definition h("
     ]
    },
    {
     "ename": "LoadError",
     "evalue": "UndefVarError: x not defined",
     "output_type": "error",
     "traceback": [
      "UndefVarError: x not defined",
      "",
      " in collect(::Base.Generator{Array{Float64,1},#h}) at .\\array.jl:307",
      " in #adapted_grid#22(::Int64, ::Function, ::#h, ::Tuple{Int64,Int64}) at C:\\Users\\Server\\.julia\\v0.5\\PlotUtils\\src\\adapted_grid.jl:43",
      " in macro expansion at C:\\Users\\Server\\.julia\\v0.5\\Plots\\src\\series.jl:440 [inlined]",
      " in apply_recipe(::Dict{Symbol,Any}, ::Function, ::Int64, ::Int64) at C:\\Users\\Server\\.julia\\v0.5\\RecipesBase\\src\\RecipesBase.jl:238",
      " in _process_userrecipes(::Plots.Plot{Plots.PlotlyBackend}, ::Dict{Symbol,Any}, ::Tuple{#h,Int64,Int64}) at C:\\Users\\Server\\.julia\\v0.5\\Plots\\src\\pipeline.jl:73",
      " in _plot!(::Plots.Plot{Plots.PlotlyBackend}, ::Dict{Symbol,Any}, ::Tuple{#h,Int64,Int64}) at C:\\Users\\Server\\.julia\\v0.5\\Plots\\src\\plot.jl:171",
      " in #plot!#266(::Array{Any,1}, ::Function, ::Plots.Plot{Plots.PlotlyBackend}, ::Function, ::Vararg{Any,N}) at C:\\Users\\Server\\.julia\\v0.5\\Plots\\src\\plot.jl:151",
      " in plot!(::Plots.Plot{Plots.PlotlyBackend}, ::Function, ::Vararg{Any,N}) at C:\\Users\\Server\\.julia\\v0.5\\Plots\\src\\plot.jl:148",
      " in #plot!#265(::Array{Any,1}, ::Function, ::Function, ::Vararg{Any,N}) at C:\\Users\\Server\\.julia\\v0.5\\Plots\\src\\plot.jl:143",
      " in plot!(::Function, ::Int64, ::Vararg{Int64,N}) at C:\\Users\\Server\\.julia\\v0.5\\Plots\\src\\plot.jl:137"
     ]
    },
    {
     "name": "stderr",
     "output_type": "stream",
     "text": [
      "Any) in module Main at In[1]:5 overwritten at In[2]:5.\n",
      "WARNING: Method definition f(Any) in module Main at In[2]:3 overwritten at In[3]:3.\n",
      "WARNING: Method definition g(Any) in module Main at In[2]:4 overwritten at In[3]:4.\n",
      "WARNING: Method definition h(Any) in module Main at In[2]:5 overwritten at In[3]:5.\n"
     ]
    }
   ],
   "source": [
    "using Plots\n",
    "\n",
    "f(x) = 1 - exp(-2x)\n",
    "g(x) = 2x\n",
    "h(X) = 2x - 2x^2\n",
    "\n",
    "plot(f, -1, 1)\n",
    "plot!(g, -1, 1)\n",
    "plot!(h, -1, 1)"
   ]
  }
 ],
 "metadata": {
  "anaconda-cloud": {},
  "kernelspec": {
   "display_name": "Julia 0.5.0",
   "language": "julia",
   "name": "julia-0.5"
  },
  "language_info": {
   "file_extension": ".jl",
   "mimetype": "application/julia",
   "name": "julia",
   "version": "0.5.0"
  }
 },
 "nbformat": 4,
 "nbformat_minor": 1
}
