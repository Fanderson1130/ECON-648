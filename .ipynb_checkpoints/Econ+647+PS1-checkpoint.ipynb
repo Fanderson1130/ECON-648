{
 "cells": [
  {
   "cell_type": "markdown",
   "metadata": {},
   "source": [
    "# Num. 2.1\n",
    "\n",
    "The speed of the computations will be similar. However, some functions may work while others won't if the polynomial has values a, b or c leaving a zero term in the denominator.\n",
    "\n",
    "The following function only returns real roots of degree 2 polynomial inputs."
   ]
  },
  {
   "cell_type": "code",
   "execution_count": 1,
   "metadata": {
    "collapsed": false
   },
   "outputs": [
    {
     "data": {
      "text/plain": [
       "findRoot (generic function with 1 method)"
      ]
     },
     "execution_count": 1,
     "metadata": {},
     "output_type": "execute_result"
    }
   ],
   "source": [
    "function findRoot(a, b, c)\n",
    "    if a!=0 && b!=0\n",
    "        posRoot = (-b + sqrt(b^2 - 4*a*c))/2*a\n",
    "        negRoot = (-b - sqrt(b^2 - 4*a*c))/2*a\n",
    "    elseif a !=0 && (4*a*c)/b^2 < 1\n",
    "        posRoot = (-b/(2*a)) * (1+ sqrt((1-4*a*c)/b^2))\n",
    "        negRoot = (-b/(2*a)) * (1- sqrt((1-4*a*c)/b^2))\n",
    "    end\n",
    "    return [posRoot, negRoot]\n",
    "end"
   ]
  },
  {
   "cell_type": "markdown",
   "metadata": {},
   "source": [
    "# Num 2.2"
   ]
  },
  {
   "cell_type": "code",
   "execution_count": 2,
   "metadata": {
    "collapsed": false
   },
   "outputs": [
    {
     "name": "stdout",
     "output_type": "stream",
     "text": [
      "[0.0120453,0.0138627,0.0136088,0.00288944]"
     ]
    }
   ],
   "source": [
    "A = [54 14 11 2;\n",
    "     14 50 4 29;\n",
    "     11 4 55 22;\n",
    "     2 29 22 95]\n",
    "\n",
    "b = [1,1,1,1]\n",
    "\n",
    "x = \\(A, b)\n",
    "\n",
    "print(x)"
   ]
  },
  {
   "cell_type": "code",
   "execution_count": 3,
   "metadata": {
    "collapsed": false
   },
   "outputs": [
    {
     "name": "stdout",
     "output_type": "stream",
     "text": [
      "results are: [0.0120329,0.0138428,0.013594,0.0028755]"
     ]
    },
    {
     "data": {
      "text/plain": [
       "IterativeSolvers.ConvergenceHistory{Float64,Array{Float64,1}}(false,0.0002,16,[1.39894,0.907871,0.621794,0.407338,0.277215,0.18264,0.123719,0.0818475,0.0552538,0.0366635,0.0246891,0.0164181,0.0110357,0.00735028,0.00493404,0.00329008])"
      ]
     },
     "execution_count": 3,
     "metadata": {},
     "output_type": "execute_result"
    }
   ],
   "source": [
    "using IterativeSolvers\n",
    "\n",
    "b = [1.0, 1.0, 1.0, 1.0]\n",
    "\n",
    "# Solves Ax=b using Gauss-Jacobi method\n",
    "x, result = jacobi(A, b, tol=0.0001)\n",
    "\n",
    "print(\"results are: \", x)\n",
    "result"
   ]
  },
  {
   "cell_type": "code",
   "execution_count": 4,
   "metadata": {
    "collapsed": false
   },
   "outputs": [
    {
     "name": "stdout",
     "output_type": "stream",
     "text": [
      "results are: [0.0120419,0.0138654,0.0136108,0.00288822]"
     ]
    },
    {
     "data": {
      "text/plain": [
       "IterativeSolvers.ConvergenceHistory{Float64,Array{Float64,1}}(true,0.0002,6,[0.385375,0.0115016,0.00469471,0.00152421,0.000480595,0.000150997])"
      ]
     },
     "execution_count": 4,
     "metadata": {},
     "output_type": "execute_result"
    }
   ],
   "source": [
    "b = [1.0, 1.0, 1.0, 1.0]\n",
    "\n",
    "# Solves Ax=b using Gauss-Seidel method\n",
    "x, result = gauss_seidel(A, b, tol=0.0001)\n",
    "\n",
    "print(\"results are: \", x)\n",
    "result"
   ]
  },
  {
   "cell_type": "markdown",
   "metadata": {},
   "source": [
    "We can see from the results above, the Gauss-Jacobi method took 16 iterations, and the Gauss-Seidel method took 6."
   ]
  },
  {
   "cell_type": "markdown",
   "metadata": {},
   "source": [
    "# Num. 3"
   ]
  },
  {
   "cell_type": "code",
   "execution_count": 5,
   "metadata": {
    "collapsed": false
   },
   "outputs": [
    {
     "data": {
      "text/plain": [
       "iterate (generic function with 1 method)"
      ]
     },
     "execution_count": 5,
     "metadata": {},
     "output_type": "execute_result"
    }
   ],
   "source": [
    "g(x, b) = 1 - (b) + (b)*x\n",
    "\n",
    "function iterate(func, guess, b)\n",
    "    for i = 1:1000000\n",
    "        guess = func(guess, b)\n",
    "    end\n",
    "    return guess\n",
    "end"
   ]
  },
  {
   "cell_type": "code",
   "execution_count": 6,
   "metadata": {
    "collapsed": false
   },
   "outputs": [
    {
     "name": "stdout",
     "output_type": "stream",
     "text": [
      "input -2 fixed point at: -Inf\n",
      "input 0 fixed point at: 1.0\n",
      "input 1 fixed point at: 0.5\n",
      "input 2 fixed point at: -Inf\n"
     ]
    }
   ],
   "source": [
    "print(\"input -2 fixed point at: \", iterate(g, 0.5, -2), \"\\n\")\n",
    "print(\"input 0 fixed point at: \", iterate(g, 0.5, 0), \"\\n\")\n",
    "print(\"input 1 fixed point at: \", iterate(g, 0.5, 1), \"\\n\")\n",
    "print(\"input 2 fixed point at: \", iterate(g, 0.5, 2), \"\\n\")"
   ]
  },
  {
   "cell_type": "markdown",
   "metadata": {},
   "source": [
    "# Num 4"
   ]
  },
  {
   "cell_type": "code",
   "execution_count": 7,
   "metadata": {
    "collapsed": false
   },
   "outputs": [
    {
     "data": {
      "text/plain": [
       "newton (generic function with 1 method)"
      ]
     },
     "execution_count": 7,
     "metadata": {},
     "output_type": "execute_result"
    }
   ],
   "source": [
    "function newton(f::Function, df::Function , x0)\n",
    "    \n",
    "    if x0 <= 0\n",
    "        error(\"Need positive inital guess\")\n",
    "    end\n",
    "    \n",
    "    tol = 1e-4\n",
    "    maxit = 100000\n",
    "\n",
    "    x = x0\n",
    "    for i in 1:maxit\n",
    "        \n",
    "        x_old = copy(x)\n",
    "        x = x - f(x) / df(x)\n",
    "        \n",
    "        while x <= 0\n",
    "            x = x_old + (x - x_old)/2\n",
    "        end\n",
    "    \n",
    "        if abs(x - x_old) < tol || abs(1 - x_old/x) < tol\n",
    "            break\n",
    "        end\n",
    "        \n",
    "        if i == maxit\n",
    "            x = \"Reached maximum iteration\"\n",
    "        end\n",
    "    end\n",
    "    return(x)\n",
    "end"
   ]
  },
  {
   "cell_type": "markdown",
   "metadata": {
    "collapsed": true
   },
   "source": [
    "# Num 5.2- 3.7\n",
    "\n",
    "First note that for a CDF $F(x) \\rightarrow U$, where $U \\in [0,1]$ and its inverse $F^{-1}(U) = x$, the problem can be recast as a root finding problem where $F(x) -U = 0$, where given a particular $U$, we want to find the corresponding $x$. This can be done using the Newton function written in problem 4."
   ]
  },
  {
   "cell_type": "code",
   "execution_count": 8,
   "metadata": {
    "collapsed": false
   },
   "outputs": [
    {
     "data": {
      "text/plain": [
       "4.966773659020873e-10"
      ]
     },
     "execution_count": 8,
     "metadata": {},
     "output_type": "execute_result"
    }
   ],
   "source": [
    "using Distributions\n",
    "\n",
    "\n",
    "function icdf(p::Float64, F::Function, x0=1.0, args...)\n",
    "    # p::float [0,1] is a probability \n",
    "    # F is a function (CDF)\n",
    "    # x0 is an initial guess\n",
    "    # F(x) should be formed as returning a tuple\n",
    "    #       (CDF(x), pdf(x))\n",
    "    # args... are args for F\n",
    "    f(x) = F(x, args...)[1] - p\n",
    "    fPrime(x) = F(x, args...)[2]\n",
    "    result = newton(f, fPrime, x0)\n",
    "    return result\n",
    "end\n",
    "\n",
    "function cdfnormal(x,mu,sigma)\n",
    "    dist = Normal(mu, sigma)    \n",
    "    z=(x-mu)./sigma;\n",
    "    F=cdf(dist,x);\n",
    "    f=exp(-0.5*z.^2)./(sqrt(2*pi)*sigma)\n",
    "    return F, f\n",
    "end\n",
    "\n",
    "test = 5\n",
    "\n",
    "testResult = test-icdf(cdfnormal(test,0,1)[1], cdfnormal, 3, 0, 1)"
   ]
  },
  {
   "cell_type": "markdown",
   "metadata": {},
   "source": [
    "$4.97 * 10^{-10}$ is indeed close to 0 "
   ]
  },
  {
   "cell_type": "code",
   "execution_count": null,
   "metadata": {
    "collapsed": true
   },
   "outputs": [],
   "source": []
  }
 ],
 "metadata": {
  "anaconda-cloud": {},
  "kernelspec": {
   "display_name": "Julia 0.5.0",
   "language": "julia",
   "name": "julia-0.5"
  },
  "language_info": {
   "file_extension": ".jl",
   "mimetype": "application/julia",
   "name": "julia",
   "version": "0.5.0"
  }
 },
 "nbformat": 4,
 "nbformat_minor": 1
}
